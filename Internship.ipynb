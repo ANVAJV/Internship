{
  "nbformat": 4,
  "nbformat_minor": 0,
  "metadata": {
    "colab": {
      "provenance": []
    },
    "kernelspec": {
      "name": "python3",
      "display_name": "Python 3"
    },
    "language_info": {
      "name": "python"
    }
  },
  "cells": [
    {
      "cell_type": "code",
      "execution_count": null,
      "metadata": {
        "id": "GKIN0hfTV-ct"
      },
      "outputs": [],
      "source": [
        "#Video Analysis Application Development"
      ]
    },
    {
      "cell_type": "code",
      "source": [
        "#The scope and goals of the project"
      ],
      "metadata": {
        "id": "CmSbSQseWtQa"
      },
      "execution_count": null,
      "outputs": []
    },
    {
      "cell_type": "code",
      "source": [
        "#Scenario: Sara is a football coach and her team has recently qualified for semi-finals of a most\n",
        "prestigious match of the country. She wants to plan the strategy for the next game based on the\n",
        "video analysis done on the games of the opponent team. Sara has identified three scenarios to be\n",
        "analysed – ‘Goal moments’, ‘Happy moments’, ‘Loss moments’. The analysis would help to learn\n",
        "about the techniques and strategy of the opponent team and hence decide on the strategy for her\n",
        "own team."
      ],
      "metadata": {
        "id": "Z5hS4ZU8WtoQ"
      },
      "execution_count": null,
      "outputs": []
    },
    {
      "cell_type": "code",
      "source": [
        "#Review existing video analysis applications and techniques."
      ],
      "metadata": {
        "id": "G1IETEzdWtrC"
      },
      "execution_count": null,
      "outputs": []
    },
    {
      "cell_type": "code",
      "source": [
        "#Critical incident technique and machine learning techniques"
      ],
      "metadata": {
        "id": "KXef9M0KWtum"
      },
      "execution_count": null,
      "outputs": []
    },
    {
      "cell_type": "code",
      "source": [
        "#Define the overall architecture and technologies to be used."
      ],
      "metadata": {
        "id": "kHqQuUPmXnAk"
      },
      "execution_count": null,
      "outputs": []
    },
    {
      "cell_type": "code",
      "source": [
        "#Importing Libraries"
      ],
      "metadata": {
        "id": "3w72HhpiXnK9"
      },
      "execution_count": null,
      "outputs": []
    },
    {
      "cell_type": "code",
      "source": [],
      "metadata": {
        "id": "LQ6t3i6RakJo"
      },
      "execution_count": 1,
      "outputs": []
    },
    {
      "cell_type": "code",
      "source": [],
      "metadata": {
        "id": "aBcDpYh_akND"
      },
      "execution_count": null,
      "outputs": []
    },
    {
      "cell_type": "code",
      "source": [],
      "metadata": {
        "id": "CzmYlJQpaqBX"
      },
      "execution_count": null,
      "outputs": []
    },
    {
      "cell_type": "code",
      "source": [
        "#Uploading Data"
      ],
      "metadata": {
        "id": "Ma8h4_oUaqFB"
      },
      "execution_count": null,
      "outputs": []
    }
  ]
}